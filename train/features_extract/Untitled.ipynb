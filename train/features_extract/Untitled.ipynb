{
 "cells": [
  {
   "cell_type": "code",
   "execution_count": 1,
   "id": "f7c22f4d-5aed-4c0a-a4a0-a37c38d89b5b",
   "metadata": {},
   "outputs": [],
   "source": [
    "import pandas as pd\n",
    "import numpy as np\n",
    "import re"
   ]
  },
  {
   "cell_type": "code",
   "execution_count": 2,
   "id": "edf79ba2-1183-4538-87e6-7b106e5c5eff",
   "metadata": {},
   "outputs": [
    {
     "data": {
      "text/html": [
       "<div>\n",
       "<style scoped>\n",
       "    .dataframe tbody tr th:only-of-type {\n",
       "        vertical-align: middle;\n",
       "    }\n",
       "\n",
       "    .dataframe tbody tr th {\n",
       "        vertical-align: top;\n",
       "    }\n",
       "\n",
       "    .dataframe thead th {\n",
       "        text-align: right;\n",
       "    }\n",
       "</style>\n",
       "<table border=\"1\" class=\"dataframe\">\n",
       "  <thead>\n",
       "    <tr style=\"text-align: right;\">\n",
       "      <th></th>\n",
       "      <th>Unnamed: 0</th>\n",
       "      <th>Method</th>\n",
       "      <th>User-Agent</th>\n",
       "      <th>Pragma</th>\n",
       "      <th>Cache-Control</th>\n",
       "      <th>Accept</th>\n",
       "      <th>Accept-encoding</th>\n",
       "      <th>Accept-charset</th>\n",
       "      <th>language</th>\n",
       "      <th>host</th>\n",
       "      <th>cookie</th>\n",
       "      <th>content-type</th>\n",
       "      <th>connection</th>\n",
       "      <th>lenght</th>\n",
       "      <th>content</th>\n",
       "      <th>classification</th>\n",
       "      <th>URL</th>\n",
       "    </tr>\n",
       "  </thead>\n",
       "  <tbody>\n",
       "    <tr>\n",
       "      <th>57668</th>\n",
       "      <td>Anomalous</td>\n",
       "      <td>GET</td>\n",
       "      <td>Mozilla/5.0 (compatible; Konqueror/3.5; Linux)...</td>\n",
       "      <td>no-cache</td>\n",
       "      <td>no-cache</td>\n",
       "      <td>text/xml,application/xml,application/xhtml+xml...</td>\n",
       "      <td>x-gzip, x-deflate, gzip, deflate</td>\n",
       "      <td>utf-8, utf-8;q=0.5, *;q=0.5</td>\n",
       "      <td>en</td>\n",
       "      <td>localhost:8080</td>\n",
       "      <td>JSESSIONID=CBC20B3C950EB08440128718ACD59575</td>\n",
       "      <td>NaN</td>\n",
       "      <td>close</td>\n",
       "      <td>NaN</td>\n",
       "      <td>NaN</td>\n",
       "      <td>1</td>\n",
       "      <td>http://localhost:8080/dvwa/publico/registro.js...</td>\n",
       "    </tr>\n",
       "    <tr>\n",
       "      <th>19858</th>\n",
       "      <td>Normal</td>\n",
       "      <td>GET</td>\n",
       "      <td>Mozilla/5.0 (compatible; Konqueror/3.5; Linux)...</td>\n",
       "      <td>no-cache</td>\n",
       "      <td>no-cache</td>\n",
       "      <td>text/xml,application/xml,application/xhtml+xml...</td>\n",
       "      <td>x-gzip, x-deflate, gzip, deflate</td>\n",
       "      <td>utf-8, utf-8;q=0.5, *;q=0.5</td>\n",
       "      <td>en</td>\n",
       "      <td>localhost:8080</td>\n",
       "      <td>JSESSIONID=97EEB1A3105521CB80F285266DDA0014</td>\n",
       "      <td>NaN</td>\n",
       "      <td>close</td>\n",
       "      <td>NaN</td>\n",
       "      <td>NaN</td>\n",
       "      <td>0</td>\n",
       "      <td>http://localhost:8080/dvwa/miembros/imagenes/c...</td>\n",
       "    </tr>\n",
       "    <tr>\n",
       "      <th>8404</th>\n",
       "      <td>Normal</td>\n",
       "      <td>GET</td>\n",
       "      <td>Mozilla/5.0 (compatible; Konqueror/3.5; Linux)...</td>\n",
       "      <td>no-cache</td>\n",
       "      <td>no-cache</td>\n",
       "      <td>text/xml,application/xml,application/xhtml+xml...</td>\n",
       "      <td>x-gzip, x-deflate, gzip, deflate</td>\n",
       "      <td>utf-8, utf-8;q=0.5, *;q=0.5</td>\n",
       "      <td>en</td>\n",
       "      <td>localhost:8080</td>\n",
       "      <td>JSESSIONID=618FF41E9F5D636EA41AB1C4D36DA30A</td>\n",
       "      <td>NaN</td>\n",
       "      <td>close</td>\n",
       "      <td>NaN</td>\n",
       "      <td>NaN</td>\n",
       "      <td>0</td>\n",
       "      <td>http://localhost:8080/dvwa/publico/vaciar.jsp?...</td>\n",
       "    </tr>\n",
       "    <tr>\n",
       "      <th>47895</th>\n",
       "      <td>Anomalous</td>\n",
       "      <td>POST</td>\n",
       "      <td>Mozilla/5.0 (compatible; Konqueror/3.5; Linux)...</td>\n",
       "      <td>no-cache</td>\n",
       "      <td>no-cache</td>\n",
       "      <td>text/xml,application/xml,application/xhtml+xml...</td>\n",
       "      <td>x-gzip, x-deflate, gzip, deflate</td>\n",
       "      <td>utf-8, utf-8;q=0.5, *;q=0.5</td>\n",
       "      <td>en</td>\n",
       "      <td>localhost:8080</td>\n",
       "      <td>JSESSIONID=0AA8A3C4F285D4E6152B970325F9A926</td>\n",
       "      <td>application/x-www-form-urlencoded</td>\n",
       "      <td>Connection: close</td>\n",
       "      <td>Content-Length: 41</td>\n",
       "      <td>modo=insertar&amp;precio=4935&amp;B1=Confirmar%2F</td>\n",
       "      <td>1</td>\n",
       "      <td>http://localhost:8080/dvwa/publico/pagar.jsp H...</td>\n",
       "    </tr>\n",
       "    <tr>\n",
       "      <th>14255</th>\n",
       "      <td>Normal</td>\n",
       "      <td>GET</td>\n",
       "      <td>Mozilla/5.0 (compatible; Konqueror/3.5; Linux)...</td>\n",
       "      <td>no-cache</td>\n",
       "      <td>no-cache</td>\n",
       "      <td>text/xml,application/xml,application/xhtml+xml...</td>\n",
       "      <td>x-gzip, x-deflate, gzip, deflate</td>\n",
       "      <td>utf-8, utf-8;q=0.5, *;q=0.5</td>\n",
       "      <td>en</td>\n",
       "      <td>localhost:8080</td>\n",
       "      <td>JSESSIONID=4CD27A4CAB1504A4772F470E88B3298D</td>\n",
       "      <td>NaN</td>\n",
       "      <td>close</td>\n",
       "      <td>NaN</td>\n",
       "      <td>NaN</td>\n",
       "      <td>0</td>\n",
       "      <td>http://localhost:8080/dvwa/imagenes/nuestratie...</td>\n",
       "    </tr>\n",
       "  </tbody>\n",
       "</table>\n",
       "</div>"
      ],
      "text/plain": [
       "      Unnamed: 0 Method                                         User-Agent  \\\n",
       "57668  Anomalous    GET  Mozilla/5.0 (compatible; Konqueror/3.5; Linux)...   \n",
       "19858     Normal    GET  Mozilla/5.0 (compatible; Konqueror/3.5; Linux)...   \n",
       "8404      Normal    GET  Mozilla/5.0 (compatible; Konqueror/3.5; Linux)...   \n",
       "47895  Anomalous   POST  Mozilla/5.0 (compatible; Konqueror/3.5; Linux)...   \n",
       "14255     Normal    GET  Mozilla/5.0 (compatible; Konqueror/3.5; Linux)...   \n",
       "\n",
       "         Pragma Cache-Control  \\\n",
       "57668  no-cache      no-cache   \n",
       "19858  no-cache      no-cache   \n",
       "8404   no-cache      no-cache   \n",
       "47895  no-cache      no-cache   \n",
       "14255  no-cache      no-cache   \n",
       "\n",
       "                                                  Accept  \\\n",
       "57668  text/xml,application/xml,application/xhtml+xml...   \n",
       "19858  text/xml,application/xml,application/xhtml+xml...   \n",
       "8404   text/xml,application/xml,application/xhtml+xml...   \n",
       "47895  text/xml,application/xml,application/xhtml+xml...   \n",
       "14255  text/xml,application/xml,application/xhtml+xml...   \n",
       "\n",
       "                        Accept-encoding               Accept-charset language  \\\n",
       "57668  x-gzip, x-deflate, gzip, deflate  utf-8, utf-8;q=0.5, *;q=0.5       en   \n",
       "19858  x-gzip, x-deflate, gzip, deflate  utf-8, utf-8;q=0.5, *;q=0.5       en   \n",
       "8404   x-gzip, x-deflate, gzip, deflate  utf-8, utf-8;q=0.5, *;q=0.5       en   \n",
       "47895  x-gzip, x-deflate, gzip, deflate  utf-8, utf-8;q=0.5, *;q=0.5       en   \n",
       "14255  x-gzip, x-deflate, gzip, deflate  utf-8, utf-8;q=0.5, *;q=0.5       en   \n",
       "\n",
       "                 host                                       cookie  \\\n",
       "57668  localhost:8080  JSESSIONID=CBC20B3C950EB08440128718ACD59575   \n",
       "19858  localhost:8080  JSESSIONID=97EEB1A3105521CB80F285266DDA0014   \n",
       "8404   localhost:8080  JSESSIONID=618FF41E9F5D636EA41AB1C4D36DA30A   \n",
       "47895  localhost:8080  JSESSIONID=0AA8A3C4F285D4E6152B970325F9A926   \n",
       "14255  localhost:8080  JSESSIONID=4CD27A4CAB1504A4772F470E88B3298D   \n",
       "\n",
       "                            content-type         connection  \\\n",
       "57668                                NaN              close   \n",
       "19858                                NaN              close   \n",
       "8404                                 NaN              close   \n",
       "47895  application/x-www-form-urlencoded  Connection: close   \n",
       "14255                                NaN              close   \n",
       "\n",
       "                   lenght                                    content  \\\n",
       "57668                 NaN                                        NaN   \n",
       "19858                 NaN                                        NaN   \n",
       "8404                  NaN                                        NaN   \n",
       "47895  Content-Length: 41  modo=insertar&precio=4935&B1=Confirmar%2F   \n",
       "14255                 NaN                                        NaN   \n",
       "\n",
       "       classification                                                URL  \n",
       "57668               1  http://localhost:8080/dvwa/publico/registro.js...  \n",
       "19858               0  http://localhost:8080/dvwa/miembros/imagenes/c...  \n",
       "8404                0  http://localhost:8080/dvwa/publico/vaciar.jsp?...  \n",
       "47895               1  http://localhost:8080/dvwa/publico/pagar.jsp H...  \n",
       "14255               0  http://localhost:8080/dvwa/imagenes/nuestratie...  "
      ]
     },
     "execution_count": 2,
     "metadata": {},
     "output_type": "execute_result"
    }
   ],
   "source": [
    "df = pd.read_csv(\"../dataset/csic_database.csv\")\n",
    "df.sample(5, random_state=44)"
   ]
  },
  {
   "cell_type": "code",
   "execution_count": 3,
   "id": "b2dc01d6-0a15-450b-8c86-081352a1864d",
   "metadata": {},
   "outputs": [],
   "source": [
    "# def get_length(row):\n",
    "#     if row is np.nan:\n",
    "#         return 0\n",
    "#     m = re.match('Content-Length: (\\d+)$', row)\n",
    "#     return int(m.group(1)) if m else 0\n",
    "# df['content_length'] = df.lenght.apply(get_length)"
   ]
  },
  {
   "cell_type": "code",
   "execution_count": 4,
   "id": "7f27b149-b6b4-4c1f-92b6-336b569e796c",
   "metadata": {},
   "outputs": [],
   "source": [
    "methods = set(df['Method'])\n",
    "hosts = set(df['host'])\n",
    "d_methods = { k : v for k,v in zip(methods, range(len(methods))) }\n",
    "d_hosts = { k : v for k,v in zip(hosts, range(len(hosts))) }"
   ]
  },
  {
   "cell_type": "code",
   "execution_count": 5,
   "id": "92f85cbb-a161-4df7-ad35-3ac42a643178",
   "metadata": {},
   "outputs": [],
   "source": [
    "df['method_num'] = df.Method.apply(lambda x : d_methods[x])\n",
    "df['host_num'] = df.host.apply(lambda x : d_hosts[x])"
   ]
  },
  {
   "cell_type": "code",
   "execution_count": 6,
   "id": "a8b2c072-3c6e-4d3f-8f79-71ac3b88f94f",
   "metadata": {},
   "outputs": [
    {
     "data": {
      "text/html": [
       "<div>\n",
       "<style scoped>\n",
       "    .dataframe tbody tr th:only-of-type {\n",
       "        vertical-align: middle;\n",
       "    }\n",
       "\n",
       "    .dataframe tbody tr th {\n",
       "        vertical-align: top;\n",
       "    }\n",
       "\n",
       "    .dataframe thead th {\n",
       "        text-align: right;\n",
       "    }\n",
       "</style>\n",
       "<table border=\"1\" class=\"dataframe\">\n",
       "  <thead>\n",
       "    <tr style=\"text-align: right;\">\n",
       "      <th></th>\n",
       "      <th>method_num</th>\n",
       "      <th>host_num</th>\n",
       "    </tr>\n",
       "  </thead>\n",
       "  <tbody>\n",
       "    <tr>\n",
       "      <th>0</th>\n",
       "      <td>0</td>\n",
       "      <td>0</td>\n",
       "    </tr>\n",
       "    <tr>\n",
       "      <th>1</th>\n",
       "      <td>0</td>\n",
       "      <td>0</td>\n",
       "    </tr>\n",
       "    <tr>\n",
       "      <th>2</th>\n",
       "      <td>1</td>\n",
       "      <td>0</td>\n",
       "    </tr>\n",
       "    <tr>\n",
       "      <th>3</th>\n",
       "      <td>0</td>\n",
       "      <td>0</td>\n",
       "    </tr>\n",
       "    <tr>\n",
       "      <th>4</th>\n",
       "      <td>1</td>\n",
       "      <td>0</td>\n",
       "    </tr>\n",
       "  </tbody>\n",
       "</table>\n",
       "</div>"
      ],
      "text/plain": [
       "   method_num  host_num\n",
       "0           0         0\n",
       "1           0         0\n",
       "2           1         0\n",
       "3           0         0\n",
       "4           1         0"
      ]
     },
     "execution_count": 6,
     "metadata": {},
     "output_type": "execute_result"
    }
   ],
   "source": [
    "#df.drop(df.columns[[0]], axis=1, inplace=True)\n",
    "X = df[['method_num', 'host_num']] #'content_length'\n",
    "y = df['classification']\n",
    "X.loc[0:4]"
   ]
  },
  {
   "cell_type": "code",
   "execution_count": 7,
   "id": "1d83e713-9d8b-45df-8d77-b7b69cf473c6",
   "metadata": {
    "tags": []
   },
   "outputs": [
    {
     "data": {
      "text/html": [
       "<div>\n",
       "<style scoped>\n",
       "    .dataframe tbody tr th:only-of-type {\n",
       "        vertical-align: middle;\n",
       "    }\n",
       "\n",
       "    .dataframe tbody tr th {\n",
       "        vertical-align: top;\n",
       "    }\n",
       "\n",
       "    .dataframe thead th {\n",
       "        text-align: right;\n",
       "    }\n",
       "</style>\n",
       "<table border=\"1\" class=\"dataframe\">\n",
       "  <thead>\n",
       "    <tr style=\"text-align: right;\">\n",
       "      <th></th>\n",
       "      <th>method_num</th>\n",
       "      <th>host_num</th>\n",
       "      <th>url_len</th>\n",
       "      <th>digits</th>\n",
       "      <th>spec_chars</th>\n",
       "      <th>not_alpha_chars</th>\n",
       "      <th>payload_args</th>\n",
       "    </tr>\n",
       "  </thead>\n",
       "  <tbody>\n",
       "    <tr>\n",
       "      <th>57668</th>\n",
       "      <td>0</td>\n",
       "      <td>0</td>\n",
       "      <td>324</td>\n",
       "      <td>65</td>\n",
       "      <td>33</td>\n",
       "      <td>120</td>\n",
       "      <td>12</td>\n",
       "    </tr>\n",
       "    <tr>\n",
       "      <th>19858</th>\n",
       "      <td>0</td>\n",
       "      <td>0</td>\n",
       "      <td>34</td>\n",
       "      <td>0</td>\n",
       "      <td>4</td>\n",
       "      <td>5</td>\n",
       "      <td>0</td>\n",
       "    </tr>\n",
       "    <tr>\n",
       "      <th>8404</th>\n",
       "      <td>0</td>\n",
       "      <td>0</td>\n",
       "      <td>42</td>\n",
       "      <td>1</td>\n",
       "      <td>4</td>\n",
       "      <td>8</td>\n",
       "      <td>0</td>\n",
       "    </tr>\n",
       "    <tr>\n",
       "      <th>47895</th>\n",
       "      <td>1</td>\n",
       "      <td>0</td>\n",
       "      <td>23</td>\n",
       "      <td>0</td>\n",
       "      <td>3</td>\n",
       "      <td>4</td>\n",
       "      <td>0</td>\n",
       "    </tr>\n",
       "    <tr>\n",
       "      <th>14255</th>\n",
       "      <td>0</td>\n",
       "      <td>0</td>\n",
       "      <td>32</td>\n",
       "      <td>0</td>\n",
       "      <td>3</td>\n",
       "      <td>4</td>\n",
       "      <td>0</td>\n",
       "    </tr>\n",
       "  </tbody>\n",
       "</table>\n",
       "</div>"
      ],
      "text/plain": [
       "       method_num  host_num  url_len  digits  spec_chars  not_alpha_chars  \\\n",
       "57668           0         0      324      65          33              120   \n",
       "19858           0         0       34       0           4                5   \n",
       "8404            0         0       42       1           4                8   \n",
       "47895           1         0       23       0           3                4   \n",
       "14255           0         0       32       0           3                4   \n",
       "\n",
       "       payload_args  \n",
       "57668            12  \n",
       "19858             0  \n",
       "8404              0  \n",
       "47895             0  \n",
       "14255             0  "
      ]
     },
     "execution_count": 7,
     "metadata": {},
     "output_type": "execute_result"
    }
   ],
   "source": [
    "from input_proc import *\n",
    "df1 = df.URL.apply(lambda row : pd.Series(gen_url_info(row), index=['url_len', 'digits', 'spec_chars', 'not_alpha_chars', 'payload_args']))\n",
    "X = pd.concat([X, df1], axis=1)\n",
    "# df2 = df.content.apply(lambda row : pd.Series(gen_content_info(row), index=['c_len', 'c_digits', 'c_spec_chars', 'c_not_alpha_chars', 'c_payload_args']))\n",
    "# X = pd.concat([X, df1, df2], axis=1)\n",
    "X.sample(5, random_state=44)"
   ]
  },
  {
   "cell_type": "code",
   "execution_count": 8,
   "id": "8bfd4e30-1da7-4f71-b2f0-6f4c38a2de14",
   "metadata": {},
   "outputs": [],
   "source": [
    "from sklearn.model_selection import train_test_split\n",
    "from sklearn.ensemble import RandomForestClassifier\n",
    "from sklearn import metrics"
   ]
  },
  {
   "cell_type": "code",
   "execution_count": 9,
   "id": "d95582a4-640c-4e0b-9b39-ff944c3edf63",
   "metadata": {},
   "outputs": [],
   "source": [
    "X_train, X_test, y_train, y_test = train_test_split(X, y)\n",
    "clf=RandomForestClassifier(n_estimators=100)"
   ]
  },
  {
   "cell_type": "code",
   "execution_count": 10,
   "id": "97d82893-cbae-40a7-aab1-7d2000e14378",
   "metadata": {},
   "outputs": [
    {
     "name": "stdout",
     "output_type": "stream",
     "text": [
      "Accuracy: 0.8312700596056855\n"
     ]
    }
   ],
   "source": [
    "clf.fit(X_train.values,y_train.values)\n",
    "y_pred=clf.predict(X_test.values)\n",
    "print(\"Accuracy:\",metrics.accuracy_score(y_test, y_pred))"
   ]
  },
  {
   "cell_type": "code",
   "execution_count": 11,
   "id": "74d01792-254c-418f-98b6-eb1feab41bfa",
   "metadata": {},
   "outputs": [
    {
     "data": {
      "text/plain": [
       "array([0.14939383, 0.00901869, 0.39930602, 0.0874876 , 0.12201515,\n",
       "       0.20502273, 0.02775599])"
      ]
     },
     "execution_count": 11,
     "metadata": {},
     "output_type": "execute_result"
    }
   ],
   "source": [
    "clf.feature_importances_"
   ]
  },
  {
   "cell_type": "code",
   "execution_count": 12,
   "id": "343dbfdd-7d96-40e9-b2ae-167cea7233be",
   "metadata": {},
   "outputs": [
    {
     "data": {
      "text/plain": [
       "array([1], dtype=int64)"
      ]
     },
     "execution_count": 12,
     "metadata": {},
     "output_type": "execute_result"
    }
   ],
   "source": [
    "clf.predict([X.iloc[54601].tolist()])"
   ]
  },
  {
   "cell_type": "code",
   "execution_count": 13,
   "id": "6a622dcc-a10d-4598-bc80-caf4bf420c7b",
   "metadata": {},
   "outputs": [
    {
     "name": "stdout",
     "output_type": "stream",
     "text": [
      "              precision    recall  f1-score   support\n",
      "\n",
      "           0       0.92      0.78      0.85      9002\n",
      "           1       0.74      0.90      0.81      6265\n",
      "\n",
      "    accuracy                           0.83     15267\n",
      "   macro avg       0.83      0.84      0.83     15267\n",
      "weighted avg       0.85      0.83      0.83     15267\n",
      "\n"
     ]
    }
   ],
   "source": [
    "from sklearn.metrics import classification_report, confusion_matrix, accuracy_score\n",
    "print(classification_report(y_test, y_pred))"
   ]
  },
  {
   "cell_type": "code",
   "execution_count": null,
   "id": "88ca1ca4-5b40-4b6a-8f83-a104dbc80885",
   "metadata": {},
   "outputs": [],
   "source": [
    "X.to_csv('out-1.csv')"
   ]
  },
  {
   "cell_type": "code",
   "execution_count": 14,
   "id": "ff64eb6d-6e95-4f7d-a7e9-644f5ee36695",
   "metadata": {},
   "outputs": [],
   "source": [
    "import pickle\n",
    "pickle.dump(clf, open('../rf_models/rfmodel-02.pkl', 'wb'))"
   ]
  },
  {
   "cell_type": "code",
   "execution_count": null,
   "id": "15047141-ff78-4c02-88f4-1c076d8d8b09",
   "metadata": {},
   "outputs": [],
   "source": [
    "loaded_model = pickle.load(open('../rf_models/rfmodel-02.pkl', 'rb'))\n",
    "loaded_model.score(X_test, y_test)"
   ]
  },
  {
   "cell_type": "code",
   "execution_count": null,
   "id": "ef829f2e-ca59-4198-97e4-08067a1ed21f",
   "metadata": {},
   "outputs": [],
   "source": [
    "X.iloc[38268]"
   ]
  },
  {
   "cell_type": "code",
   "execution_count": null,
   "id": "4c049ec5-b914-47a6-9bb2-9a38bddd4edd",
   "metadata": {},
   "outputs": [],
   "source": [
    "X.iloc[19858]"
   ]
  },
  {
   "cell_type": "code",
   "execution_count": null,
   "id": "65018cd7-2d32-4618-8455-98bc86747c98",
   "metadata": {},
   "outputs": [],
   "source": [
    "clf.predict([\n",
    "    [0, 0, 115, 56, 4, 7, 12, 0],\n",
    "    [1, 0, 0, 87, 9, 13, 25, 0]\n",
    "])"
   ]
  },
  {
   "cell_type": "code",
   "execution_count": null,
   "id": "a253895c-04e2-4b55-a2b5-cefaafd442a0",
   "metadata": {},
   "outputs": [],
   "source": []
  }
 ],
 "metadata": {
  "kernelspec": {
   "display_name": "Python 3 (ipykernel)",
   "language": "python",
   "name": "python3"
  },
  "language_info": {
   "codemirror_mode": {
    "name": "ipython",
    "version": 3
   },
   "file_extension": ".py",
   "mimetype": "text/x-python",
   "name": "python",
   "nbconvert_exporter": "python",
   "pygments_lexer": "ipython3",
   "version": "3.10.6"
  }
 },
 "nbformat": 4,
 "nbformat_minor": 5
}
