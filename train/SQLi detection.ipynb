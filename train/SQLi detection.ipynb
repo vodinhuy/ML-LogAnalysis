{
 "cells": [
  {
   "cell_type": "code",
   "execution_count": 1,
   "id": "8616b57d-d84a-443e-97bf-99574af00c5d",
   "metadata": {},
   "outputs": [],
   "source": [
    "import pandas as pd\n",
    "import numpy as np\n",
    "import re"
   ]
  },
  {
   "cell_type": "code",
   "execution_count": 4,
   "id": "5346bc2d-0b4b-4614-9e24-9efb58246c9b",
   "metadata": {},
   "outputs": [
    {
     "data": {
      "text/html": [
       "<div>\n",
       "<style scoped>\n",
       "    .dataframe tbody tr th:only-of-type {\n",
       "        vertical-align: middle;\n",
       "    }\n",
       "\n",
       "    .dataframe tbody tr th {\n",
       "        vertical-align: top;\n",
       "    }\n",
       "\n",
       "    .dataframe thead th {\n",
       "        text-align: right;\n",
       "    }\n",
       "</style>\n",
       "<table border=\"1\" class=\"dataframe\">\n",
       "  <thead>\n",
       "    <tr style=\"text-align: right;\">\n",
       "      <th></th>\n",
       "      <th>payload</th>\n",
       "      <th>length</th>\n",
       "      <th>attack_type</th>\n",
       "      <th>label</th>\n",
       "    </tr>\n",
       "  </thead>\n",
       "  <tbody>\n",
       "    <tr>\n",
       "      <th>11381</th>\n",
       "      <td>1%\")) order by 1--</td>\n",
       "      <td>18</td>\n",
       "      <td>sqli</td>\n",
       "      <td>anom</td>\n",
       "    </tr>\n",
       "    <tr>\n",
       "      <th>5672</th>\n",
       "      <td>6411</td>\n",
       "      <td>4</td>\n",
       "      <td>norm</td>\n",
       "      <td>norm</td>\n",
       "    </tr>\n",
       "    <tr>\n",
       "      <th>6078</th>\n",
       "      <td>devette</td>\n",
       "      <td>7</td>\n",
       "      <td>norm</td>\n",
       "      <td>norm</td>\n",
       "    </tr>\n",
       "    <tr>\n",
       "      <th>4561</th>\n",
       "      <td>rufino@citycvs.as</td>\n",
       "      <td>17</td>\n",
       "      <td>norm</td>\n",
       "      <td>norm</td>\n",
       "    </tr>\n",
       "    <tr>\n",
       "      <th>8952</th>\n",
       "      <td>catll</td>\n",
       "      <td>5</td>\n",
       "      <td>norm</td>\n",
       "      <td>norm</td>\n",
       "    </tr>\n",
       "  </tbody>\n",
       "</table>\n",
       "</div>"
      ],
      "text/plain": [
       "                  payload  length attack_type label\n",
       "11381  1%\")) order by 1--      18        sqli  anom\n",
       "5672                 6411       4        norm  norm\n",
       "6078              devette       7        norm  norm\n",
       "4561    rufino@citycvs.as      17        norm  norm\n",
       "8952                catll       5        norm  norm"
      ]
     },
     "execution_count": 4,
     "metadata": {},
     "output_type": "execute_result"
    }
   ],
   "source": [
    "df = pd.read_csv(\"./dataset/HTTPParamsDataset/payload_full.csv\")\n",
    "df.sample(10, random_state=44)"
   ]
  },
  {
   "cell_type": "code",
   "execution_count": 11,
   "id": "0e172a18-664c-40f1-b904-2a5349b019d8",
   "metadata": {},
   "outputs": [],
   "source": [
    "attackTypes = set(df.attack_type)\n",
    "labels = set(df.label)\n",
    "d_attackTypes = { k : v for k,v in zip(attackTypes, range(len(attackTypes))) }\n",
    "d_labels = { k : v for k,v in zip(labels, range(len(labels))) }"
   ]
  },
  {
   "cell_type": "code",
   "execution_count": 12,
   "id": "d10b232e-9e00-4973-99e6-9158b8ff2a00",
   "metadata": {},
   "outputs": [
    {
     "name": "stdout",
     "output_type": "stream",
     "text": [
      "{'norm': 0, 'path-traversal': 1, 'cmdi': 2, 'xss': 3, 'sqli': 4}\n",
      "{'anom': 0, 'norm': 1}\n"
     ]
    }
   ],
   "source": [
    "print(d_attackTypes)\n",
    "print(d_labels)"
   ]
  },
  {
   "cell_type": "code",
   "execution_count": 13,
   "id": "b8e2de11-3081-4055-a3c1-9764b742fc16",
   "metadata": {},
   "outputs": [],
   "source": [
    "df['attack_type_num'] = df.attack_type.apply(lambda x : d_attackTypes[x])\n",
    "df['label_num'] = df.label.apply(lambda x : d_labels[x])"
   ]
  },
  {
   "cell_type": "code",
   "execution_count": 31,
   "id": "2b7febe4-7440-4015-8a41-a828d40ac6b7",
   "metadata": {},
   "outputs": [],
   "source": [
    "X = df['length']\n",
    "y = df['label_num']"
   ]
  },
  {
   "cell_type": "code",
   "execution_count": 32,
   "id": "81e488df-9948-49b8-ade5-167f60a7b190",
   "metadata": {},
   "outputs": [],
   "source": [
    "from input_clearing import *\n",
    "# num_digits, num_spec_chars, num_nalpha_chars, num_payload_args\n",
    "df1 = df.payload.apply(lambda row : pd.Series(gen_payload_info(row), index=['digits', 'spec_chars', 'not_alpha_chars', 'payload_args']))\n",
    "X = pd.concat([X, df1], axis=1)"
   ]
  },
  {
   "cell_type": "code",
   "execution_count": 33,
   "id": "1a68c39f-5014-4f0d-a3be-d7009f6db43f",
   "metadata": {},
   "outputs": [
    {
     "data": {
      "text/html": [
       "<div>\n",
       "<style scoped>\n",
       "    .dataframe tbody tr th:only-of-type {\n",
       "        vertical-align: middle;\n",
       "    }\n",
       "\n",
       "    .dataframe tbody tr th {\n",
       "        vertical-align: top;\n",
       "    }\n",
       "\n",
       "    .dataframe thead th {\n",
       "        text-align: right;\n",
       "    }\n",
       "</style>\n",
       "<table border=\"1\" class=\"dataframe\">\n",
       "  <thead>\n",
       "    <tr style=\"text-align: right;\">\n",
       "      <th></th>\n",
       "      <th>length</th>\n",
       "      <th>digits</th>\n",
       "      <th>spec_chars</th>\n",
       "      <th>not_alpha_chars</th>\n",
       "      <th>payload_args</th>\n",
       "    </tr>\n",
       "  </thead>\n",
       "  <tbody>\n",
       "    <tr>\n",
       "      <th>11381</th>\n",
       "      <td>18</td>\n",
       "      <td>2</td>\n",
       "      <td>3</td>\n",
       "      <td>11</td>\n",
       "      <td>0</td>\n",
       "    </tr>\n",
       "    <tr>\n",
       "      <th>5672</th>\n",
       "      <td>4</td>\n",
       "      <td>4</td>\n",
       "      <td>0</td>\n",
       "      <td>4</td>\n",
       "      <td>0</td>\n",
       "    </tr>\n",
       "    <tr>\n",
       "      <th>6078</th>\n",
       "      <td>7</td>\n",
       "      <td>0</td>\n",
       "      <td>0</td>\n",
       "      <td>0</td>\n",
       "      <td>0</td>\n",
       "    </tr>\n",
       "    <tr>\n",
       "      <th>4561</th>\n",
       "      <td>17</td>\n",
       "      <td>0</td>\n",
       "      <td>1</td>\n",
       "      <td>2</td>\n",
       "      <td>0</td>\n",
       "    </tr>\n",
       "    <tr>\n",
       "      <th>8952</th>\n",
       "      <td>5</td>\n",
       "      <td>0</td>\n",
       "      <td>0</td>\n",
       "      <td>0</td>\n",
       "      <td>0</td>\n",
       "    </tr>\n",
       "    <tr>\n",
       "      <th>7590</th>\n",
       "      <td>20</td>\n",
       "      <td>2</td>\n",
       "      <td>0</td>\n",
       "      <td>6</td>\n",
       "      <td>0</td>\n",
       "    </tr>\n",
       "    <tr>\n",
       "      <th>24980</th>\n",
       "      <td>26</td>\n",
       "      <td>0</td>\n",
       "      <td>1</td>\n",
       "      <td>2</td>\n",
       "      <td>0</td>\n",
       "    </tr>\n",
       "    <tr>\n",
       "      <th>19080</th>\n",
       "      <td>8</td>\n",
       "      <td>0</td>\n",
       "      <td>0</td>\n",
       "      <td>0</td>\n",
       "      <td>0</td>\n",
       "    </tr>\n",
       "    <tr>\n",
       "      <th>732</th>\n",
       "      <td>30</td>\n",
       "      <td>0</td>\n",
       "      <td>1</td>\n",
       "      <td>3</td>\n",
       "      <td>0</td>\n",
       "    </tr>\n",
       "    <tr>\n",
       "      <th>27019</th>\n",
       "      <td>47</td>\n",
       "      <td>16</td>\n",
       "      <td>7</td>\n",
       "      <td>34</td>\n",
       "      <td>1</td>\n",
       "    </tr>\n",
       "  </tbody>\n",
       "</table>\n",
       "</div>"
      ],
      "text/plain": [
       "       length  digits  spec_chars  not_alpha_chars  payload_args\n",
       "11381      18       2           3               11             0\n",
       "5672        4       4           0                4             0\n",
       "6078        7       0           0                0             0\n",
       "4561       17       0           1                2             0\n",
       "8952        5       0           0                0             0\n",
       "7590       20       2           0                6             0\n",
       "24980      26       0           1                2             0\n",
       "19080       8       0           0                0             0\n",
       "732        30       0           1                3             0\n",
       "27019      47      16           7               34             1"
      ]
     },
     "execution_count": 33,
     "metadata": {},
     "output_type": "execute_result"
    }
   ],
   "source": [
    "X.sample(10, random_state=44)"
   ]
  },
  {
   "cell_type": "code",
   "execution_count": 34,
   "id": "03e8bd62-fea4-4904-8707-f0be6e0eff99",
   "metadata": {},
   "outputs": [],
   "source": [
    "from sklearn.model_selection import train_test_split\n",
    "from sklearn.ensemble import RandomForestClassifier\n",
    "from sklearn import metrics\n",
    "X_train, X_test, y_train, y_test = train_test_split(X, y)\n",
    "clf=RandomForestClassifier(n_estimators=100)"
   ]
  },
  {
   "cell_type": "code",
   "execution_count": 35,
   "id": "ae5e1e84-a88e-458a-88fb-ca859e371d15",
   "metadata": {},
   "outputs": [
    {
     "name": "stdout",
     "output_type": "stream",
     "text": [
      "Accuracy: 0.9951075061156174\n"
     ]
    }
   ],
   "source": [
    "clf.fit(X_train.values,y_train.values)\n",
    "y_pred=clf.predict(X_test.values)\n",
    "print(\"Accuracy:\",metrics.accuracy_score(y_test, y_pred))"
   ]
  },
  {
   "cell_type": "code",
   "execution_count": 36,
   "id": "d3b54ffb-f450-4f8c-91d0-2c992a21be3b",
   "metadata": {},
   "outputs": [
    {
     "data": {
      "text/plain": [
       "array([0.14247087, 0.0313671 , 0.28056045, 0.50028091, 0.04532066])"
      ]
     },
     "execution_count": 36,
     "metadata": {},
     "output_type": "execute_result"
    }
   ],
   "source": [
    "clf.feature_importances_"
   ]
  },
  {
   "cell_type": "code",
   "execution_count": 37,
   "id": "25eafcbf-747b-42e2-a4c3-cf28594d3260",
   "metadata": {},
   "outputs": [
    {
     "name": "stdout",
     "output_type": "stream",
     "text": [
      "              precision    recall  f1-score   support\n",
      "\n",
      "           0       0.99      0.99      0.99      2963\n",
      "           1       1.00      1.00      1.00      4804\n",
      "\n",
      "    accuracy                           1.00      7767\n",
      "   macro avg       0.99      0.99      0.99      7767\n",
      "weighted avg       1.00      1.00      1.00      7767\n",
      "\n"
     ]
    }
   ],
   "source": [
    "from sklearn.metrics import classification_report, confusion_matrix, accuracy_score\n",
    "print(classification_report(y_test, y_pred))"
   ]
  },
  {
   "cell_type": "code",
   "execution_count": 38,
   "id": "6aab8eda-630e-4df4-9f40-abebee6d2e1a",
   "metadata": {},
   "outputs": [],
   "source": [
    "import pickle\n",
    "pickle.dump(clf, open('testmodel.pkl', 'wb'))"
   ]
  },
  {
   "cell_type": "code",
   "execution_count": null,
   "id": "69e9f8da-63df-4707-8071-c978acd0ba81",
   "metadata": {},
   "outputs": [],
   "source": []
  }
 ],
 "metadata": {
  "kernelspec": {
   "display_name": "Python 3 (ipykernel)",
   "language": "python",
   "name": "python3"
  },
  "language_info": {
   "codemirror_mode": {
    "name": "ipython",
    "version": 3
   },
   "file_extension": ".py",
   "mimetype": "text/x-python",
   "name": "python",
   "nbconvert_exporter": "python",
   "pygments_lexer": "ipython3",
   "version": "3.10.6"
  }
 },
 "nbformat": 4,
 "nbformat_minor": 5
}
